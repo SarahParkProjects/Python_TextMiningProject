{
 "cells": [
  {
   "cell_type": "markdown",
   "id": "b26cde85",
   "metadata": {
    "id": "b26cde85",
    "papermill": {
     "duration": 0.013298,
     "end_time": "2023-11-19T00:10:12.596454",
     "exception": false,
     "start_time": "2023-11-19T00:10:12.583156",
     "status": "completed"
    },
    "tags": []
   },
   "source": [
    "Sumbitted on 27 Oct 2023\n",
    "Paper name: Data Mining and Knowledge Engineering\n",
    "\n",
    "---\n",
    "\n",
    "<br>\n",
    "\n",
    "# Project Objective:\n",
    "\n",
    "To compare the performance of three classification algorithms Multinomial Naive Bayes, Multilayer Perceptron, and Support Vector Machine.\n",
    "\n",
    "<br>\n",
    "\n",
    "# Tools used\n",
    "Python (NLP libraries like NLTK, and Machine Learning libraries like scikit-learn).\n",
    "\n",
    "\n",
    "<br>\n",
    "\n",
    "# Algorithms and parameters used:\n",
    "   - Multinomial Naive Bayes (MNB), Param: default\n",
    "   - Multilayer Perceptron (MLP), Param: 100,100, a=0.01\n",
    "   - Support Vector Machine (SVM), Param: default\n",
    "  \n",
    "<br>\n",
    "\n",
    "# Results (accuracy):\n",
    "\n",
    "MNB: 0.533\n",
    "\n",
    "MLP: 0.53\n",
    "\n",
    "SVM: 0.59\n",
    "\n",
    "<br>\n",
    "\n",
    "# Best-performing algorithm and why:\n",
    "\n",
    "Support Vector Machine.\n",
    "\n",
    "Reason:\n",
    "SVM demonstrated the highest Accuracy, Precision and Recall rates. It also exhibited robustness to noise and changes in input data, making it the ideal choice for the this particular dataset. Additionaly, it does not require significant computational resources, making it an approachable option.\n",
    "\n",
    "<br>\n",
    "\n",
    "# Details about the dataset:\n",
    "- This public domain dataset is collected from data.world platform, shared by @crowdflower, a data enrichment, mining and crowdsourcing company based in the US.\n",
    "- The dataset consists of 40000 records of tweets labelled with 13 different sentiments, followed by Tweet ID number.\n",
    "- All data types are strings, except for the 'tweet ID' column, which is an integer.\n",
    "- There is a class imbalance of <21.32%. Tweets primarily convey neutral and negative sentiments.\n",
    "- Contains 172 duplicate rows (tweets) but categorised with different sentiment labels.\n",
    "- Word lengths vary, ranging from a minimum of 1 word to a maximum of 16 words.\n",
    "- The data exhibits some degree of disorder and lack of cohesion. Various linguistic patterns used to express sentiment.\n",
    "- Some information contains only special characters or hyperlinks.\n",
    "- Contains informal and colloquial terms. For instance, “peeps” is a friendly term for “People”.\n",
    "- Contains self-made terms, slangs or misspellings such as “Humpalow”.\n",
    "\n",
    "<br>\n",
    "\n",
    "# Four things I did to maximise accuracy and why:\n",
    "\n",
    "- One: Cleaned special characters\n",
    "\n",
    "Rationale: Tweets contain dynamic ways of conveying emotions through text. I retained punctuation marks ('!' and '?') to capture emotional tones during text cleaning. However, as there was no significant difference in the results - I proceeded to remove these characters.\n",
    "\n",
    "\n",
    "- Two: Lemmatisation\n",
    "\n",
    "Rationale: Experimented stemming and lemmatisation, using both and interchangeably. Neither had zero to minimal impact on accuracy. Stemming showed no effect, while lemmatisation produced slight changes of 0.001.\n",
    "\n",
    "- Three: Retained stopword\n",
    "\n",
    "Rationale:  Retaining stopwords improved precision.\n",
    "There's a possibility that removing stopwords could result in the loss of valuable information, especially in rows where a high number of stopwords, accounting for over 50% of the sentence.\n",
    "\n",
    "- Four: TF-IDF as Feature Engineering method\n",
    "\n",
    "Rationale:  TF-IDF exhibited higher accuracy compared to GloVe. Accuracy rates dropped by up to 20% after embedding text using GloVe.\n",
    "\n",
    "<br>\n",
    "\n",
    "# What did I do to mitigate data imbalance?:\n",
    "\n",
    "I Combined the 13 labels into three primary emotions: Positive, Negative, and Neutral. Further details are explained in [Data Exploration: Balancing Class](#balancing-class).\n",
    "\n",
    "<br>\n",
    "\n",
    "# Table of Contents:\n",
    "\n",
    "#### 1. Data Exploration\n",
    "- [Data Exploration: Data Preparation](#data-exploration)\n",
    "- [Data Exploration: Exploring Class](#exploring-class)\n",
    "\n",
    "#### 2. Preprocess\n",
    "- [Preprocessing: Data Cleaning](#data-cleaning)\n",
    "- [Exploring Cleaned Data & Investigating Stopwords in Text](#preprocessing)\n",
    "- [Tokenising](#tokenisation)\n",
    "\n",
    "#### 3. Feature Engineering\n",
    "- [Vectorising using TF-IDF](#tfidf)\n",
    "\n",
    "#### 4. Model Training/Testing/Evaluation\n",
    "- [MNB](#mnb)\n",
    "- [MLP](#mlp)\n",
    "- [SVM](#svm)\n",
    "\n",
    "#### 5. [Experiment details](#details)\n",
    "\n",
    "#### 6. [Conclusion](#conclusion)  "
   ]
  },
  {
   "cell_type": "code",
   "execution_count": null,
   "id": "c37b3545",
   "metadata": {
    "execution": {
     "iopub.execute_input": "2023-11-19T00:10:12.626036Z",
     "iopub.status.busy": "2023-11-19T00:10:12.625565Z",
     "iopub.status.idle": "2023-11-19T00:10:34.743959Z",
     "shell.execute_reply": "2023-11-19T00:10:34.742681Z"
    },
    "id": "c37b3545",
    "outputId": "d5c79ac6-6874-425b-b160-6515a502ca43",
    "papermill": {
     "duration": 22.136671,
     "end_time": "2023-11-19T00:10:34.746932",
     "exception": false,
     "start_time": "2023-11-19T00:10:12.610261",
     "status": "completed"
    },
    "tags": []
   },
   "outputs": [
    {
     "name": "stdout",
     "output_type": "stream",
     "text": [
      "Name: nltk\r\n",
      "Version: 3.2.4\r\n",
      "Summary: Natural Language Toolkit\r\n",
      "Home-page: http://nltk.org/\r\n",
      "Author: Steven Bird\r\n",
      "Author-email: stevenbird1@gmail.com\r\n",
      "License: Apache License, Version 2.0\r\n",
      "Location: /opt/conda/lib/python3.10/site-packages\r\n",
      "Requires: six\r\n",
      "Required-by: preprocessing, textblob\r\n",
      "Requirement already satisfied: nltk in /opt/conda/lib/python3.10/site-packages (3.2.4)\r\n",
      "Collecting nltk\r\n",
      "  Downloading nltk-3.8.1-py3-none-any.whl (1.5 MB)\r\n",
      "\u001b[2K     \u001b[90m━━━━━━━━━━━━━━━━━━━━━━━━━━━━━━━━━━━━━━━━\u001b[0m \u001b[32m1.5/1.5 MB\u001b[0m \u001b[31m20.9 MB/s\u001b[0m eta \u001b[36m0:00:00\u001b[0m\r\n",
      "\u001b[?25hRequirement already satisfied: click in /opt/conda/lib/python3.10/site-packages (from nltk) (8.1.7)\r\n",
      "Requirement already satisfied: joblib in /opt/conda/lib/python3.10/site-packages (from nltk) (1.3.2)\r\n",
      "Requirement already satisfied: regex>=2021.8.3 in /opt/conda/lib/python3.10/site-packages (from nltk) (2023.8.8)\r\n",
      "Requirement already satisfied: tqdm in /opt/conda/lib/python3.10/site-packages (from nltk) (4.66.1)\r\n",
      "Installing collected packages: nltk\r\n",
      "  Attempting uninstall: nltk\r\n",
      "    Found existing installation: nltk 3.2.4\r\n",
      "    Uninstalling nltk-3.2.4:\r\n",
      "      Successfully uninstalled nltk-3.2.4\r\n",
      "\u001b[31mERROR: pip's dependency resolver does not currently take into account all the packages that are installed. This behaviour is the source of the following dependency conflicts.\r\n",
      "preprocessing 0.1.13 requires nltk==3.2.4, but you have nltk 3.8.1 which is incompatible.\u001b[0m\u001b[31m\r\n",
      "\u001b[0mSuccessfully installed nltk-3.8.1\r\n"
     ]
    }
   ],
   "source": [
    "!pip show nltk\n",
    "!pip install --upgrade nltk"
   ]
  },
  {
   "cell_type": "code",
   "execution_count": null,
   "id": "c02457cf",
   "metadata": {
    "execution": {
     "iopub.execute_input": "2023-11-19T00:10:34.781043Z",
     "iopub.status.busy": "2023-11-19T00:10:34.780644Z",
     "iopub.status.idle": "2023-11-19T00:10:46.629586Z",
     "shell.execute_reply": "2023-11-19T00:10:46.626867Z"
    },
    "id": "c02457cf",
    "outputId": "be9ed21c-f1cc-4fdb-da49-175b10daede2",
    "papermill": {
     "duration": 11.869939,
     "end_time": "2023-11-19T00:10:46.632644",
     "exception": false,
     "start_time": "2023-11-19T00:10:34.762705",
     "status": "completed"
    },
    "tags": []
   },
   "outputs": [
    {
     "name": "stdout",
     "output_type": "stream",
     "text": [
      "Requirement already satisfied: stop_words in /opt/conda/lib/python3.10/site-packages (2018.7.23)\r\n"
     ]
    },
    {
     "name": "stderr",
     "output_type": "stream",
     "text": [
      "[nltk_data] Downloading package stopwords to /usr/share/nltk_data...\n",
      "[nltk_data]   Package stopwords is already up-to-date!\n",
      "[nltk_data] Downloading package wordnet to /usr/share/nltk_data...\n",
      "[nltk_data]   Package wordnet is already up-to-date!\n",
      "[nltk_data] Downloading package omw-1.4 to /usr/share/nltk_data...\n",
      "[nltk_data] Downloading package punkt to /usr/share/nltk_data...\n",
      "[nltk_data]   Package punkt is already up-to-date!\n"
     ]
    }
   ],
   "source": [
    "import pandas as pd\n",
    "import numpy as np\n",
    "\n",
    "import re\n",
    "import nltk\n",
    "from nltk.stem import PorterStemmer\n",
    "from nltk.stem import WordNetLemmatizer\n",
    "from sklearn.datasets import load_files\n",
    "!pip install stop_words\n",
    "nltk.download('stopwords')\n",
    "import pickle\n",
    "\n",
    "from nltk.corpus import stopwords\n",
    "nltk.download('wordnet')\n",
    "nltk.download('omw-1.4')\n",
    "nltk.download('punkt')\n",
    "from nltk.tokenize import sent_tokenize\n",
    "#!pip install stop_words\n",
    "\n",
    "from sklearn.model_selection import train_test_split\n",
    "from sklearn.feature_extraction.text import TfidfTransformer\n",
    "from sklearn.feature_extraction.text import CountVectorizer, TfidfVectorizer\n",
    "\n",
    "from sklearn.naive_bayes import MultinomialNB\n",
    "from sklearn.metrics import classification_report, accuracy_score, confusion_matrix\n",
    "from sklearn.model_selection import cross_val_predict, StratifiedKFold\n",
    "from sklearn.neural_network import MLPClassifier\n",
    "import matplotlib.pyplot as plt\n",
    "from sklearn.metrics import accuracy_score, precision_score, recall_score, f1_score, confusion_matrix, classification_report\n",
    "\n",
    "from sklearn.pipeline import Pipeline\n",
    "from sklearn.svm import SVC\n",
    "import matplotlib.pyplot as plt"
   ]
  },
  {
   "cell_type": "markdown",
   "id": "72a4c8e3",
   "metadata": {
    "id": "72a4c8e3",
    "papermill": {
     "duration": 0.015776,
     "end_time": "2023-11-19T00:10:46.948493",
     "exception": false,
     "start_time": "2023-11-19T00:10:46.932717",
     "status": "completed"
    },
    "tags": []
   },
   "source": [
    "# Data Exploration: Data Preparation\n",
    "<a id='data-exploration'></a>"
   ]
  },
  {
   "cell_type": "code",
   "execution_count": null,
   "id": "762535df",
   "metadata": {
    "execution": {
     "iopub.execute_input": "2023-11-19T00:10:46.667210Z",
     "iopub.status.busy": "2023-11-19T00:10:46.666433Z",
     "iopub.status.idle": "2023-11-19T00:10:46.914207Z",
     "shell.execute_reply": "2023-11-19T00:10:46.911689Z"
    },
    "id": "762535df",
    "outputId": "b3a2ebff-5c87-4fc6-915f-394a4b2a2d92",
    "papermill": {
     "duration": 0.268478,
     "end_time": "2023-11-19T00:10:46.916974",
     "exception": false,
     "start_time": "2023-11-19T00:10:46.648496",
     "status": "completed"
    },
    "tags": []
   },
   "outputs": [
    {
     "data": {
      "text/html": [
       "<div>\n",
       "<style scoped>\n",
       "    .dataframe tbody tr th:only-of-type {\n",
       "        vertical-align: middle;\n",
       "    }\n",
       "\n",
       "    .dataframe tbody tr th {\n",
       "        vertical-align: top;\n",
       "    }\n",
       "\n",
       "    .dataframe thead th {\n",
       "        text-align: right;\n",
       "    }\n",
       "</style>\n",
       "<table border=\"1\" class=\"dataframe\">\n",
       "  <thead>\n",
       "    <tr style=\"text-align: right;\">\n",
       "      <th></th>\n",
       "      <th>tweet_id</th>\n",
       "      <th>sentiment</th>\n",
       "      <th>content</th>\n",
       "    </tr>\n",
       "  </thead>\n",
       "  <tbody>\n",
       "    <tr>\n",
       "      <th>0</th>\n",
       "      <td>1956967341</td>\n",
       "      <td>empty</td>\n",
       "      <td>@tiffanylue i know  i was listenin to bad habi...</td>\n",
       "    </tr>\n",
       "    <tr>\n",
       "      <th>1</th>\n",
       "      <td>1956967666</td>\n",
       "      <td>sadness</td>\n",
       "      <td>Layin n bed with a headache  ughhhh...waitin o...</td>\n",
       "    </tr>\n",
       "    <tr>\n",
       "      <th>2</th>\n",
       "      <td>1956967696</td>\n",
       "      <td>sadness</td>\n",
       "      <td>Funeral ceremony...gloomy friday...</td>\n",
       "    </tr>\n",
       "    <tr>\n",
       "      <th>3</th>\n",
       "      <td>1956967789</td>\n",
       "      <td>enthusiasm</td>\n",
       "      <td>wants to hang out with friends SOON!</td>\n",
       "    </tr>\n",
       "    <tr>\n",
       "      <th>4</th>\n",
       "      <td>1956968416</td>\n",
       "      <td>neutral</td>\n",
       "      <td>@dannycastillo We want to trade with someone w...</td>\n",
       "    </tr>\n",
       "    <tr>\n",
       "      <th>5</th>\n",
       "      <td>1956968477</td>\n",
       "      <td>worry</td>\n",
       "      <td>Re-pinging @ghostridah14: why didn't you go to...</td>\n",
       "    </tr>\n",
       "    <tr>\n",
       "      <th>6</th>\n",
       "      <td>1956968487</td>\n",
       "      <td>sadness</td>\n",
       "      <td>I should be sleep, but im not! thinking about ...</td>\n",
       "    </tr>\n",
       "    <tr>\n",
       "      <th>7</th>\n",
       "      <td>1956968636</td>\n",
       "      <td>worry</td>\n",
       "      <td>Hmmm. http://www.djhero.com/ is down</td>\n",
       "    </tr>\n",
       "    <tr>\n",
       "      <th>8</th>\n",
       "      <td>1956969035</td>\n",
       "      <td>sadness</td>\n",
       "      <td>@charviray Charlene my love. I miss you</td>\n",
       "    </tr>\n",
       "    <tr>\n",
       "      <th>9</th>\n",
       "      <td>1956969172</td>\n",
       "      <td>sadness</td>\n",
       "      <td>@kelcouch I'm sorry  at least it's Friday?</td>\n",
       "    </tr>\n",
       "  </tbody>\n",
       "</table>\n",
       "</div>"
      ],
      "text/plain": [
       "     tweet_id   sentiment                                            content\n",
       "0  1956967341       empty  @tiffanylue i know  i was listenin to bad habi...\n",
       "1  1956967666     sadness  Layin n bed with a headache  ughhhh...waitin o...\n",
       "2  1956967696     sadness                Funeral ceremony...gloomy friday...\n",
       "3  1956967789  enthusiasm               wants to hang out with friends SOON!\n",
       "4  1956968416     neutral  @dannycastillo We want to trade with someone w...\n",
       "5  1956968477       worry  Re-pinging @ghostridah14: why didn't you go to...\n",
       "6  1956968487     sadness  I should be sleep, but im not! thinking about ...\n",
       "7  1956968636       worry               Hmmm. http://www.djhero.com/ is down\n",
       "8  1956969035     sadness            @charviray Charlene my love. I miss you\n",
       "9  1956969172     sadness         @kelcouch I'm sorry  at least it's Friday?"
      ]
     },
     "execution_count": 3,
     "metadata": {},
     "output_type": "execute_result"
    }
   ],
   "source": [
    "df = pd.read_csv('/kaggle/input/emotion-detection-from-text/tweet_emotions.csv')\n",
    "df.head(10)"
   ]
  },
  {
   "cell_type": "code",
   "execution_count": null,
   "id": "a4d315d7",
   "metadata": {
    "execution": {
     "iopub.execute_input": "2023-11-19T00:10:46.979360Z",
     "iopub.status.busy": "2023-11-19T00:10:46.979030Z",
     "iopub.status.idle": "2023-11-19T00:10:47.011400Z",
     "shell.execute_reply": "2023-11-19T00:10:47.010225Z"
    },
    "id": "a4d315d7",
    "outputId": "13915434-f979-4eb3-f4ba-884a1ca3b783",
    "papermill": {
     "duration": 0.050299,
     "end_time": "2023-11-19T00:10:47.013528",
     "exception": false,
     "start_time": "2023-11-19T00:10:46.963229",
     "status": "completed"
    },
    "tags": []
   },
   "outputs": [
    {
     "name": "stdout",
     "output_type": "stream",
     "text": [
      "<class 'pandas.core.frame.DataFrame'>\n",
      "RangeIndex: 40000 entries, 0 to 39999\n",
      "Data columns (total 3 columns):\n",
      " #   Column     Non-Null Count  Dtype \n",
      "---  ------     --------------  ----- \n",
      " 0   tweet_id   40000 non-null  int64 \n",
      " 1   sentiment  40000 non-null  object\n",
      " 2   content    40000 non-null  object\n",
      "dtypes: int64(1), object(2)\n",
      "memory usage: 937.6+ KB\n"
     ]
    }
   ],
   "source": [
    "df.info()"
   ]
  },
  {
   "cell_type": "code",
   "execution_count": null,
   "id": "3a0f4e3f",
   "metadata": {
    "execution": {
     "iopub.execute_input": "2023-11-19T00:10:47.046728Z",
     "iopub.status.busy": "2023-11-19T00:10:47.046235Z",
     "iopub.status.idle": "2023-11-19T00:10:47.052585Z",
     "shell.execute_reply": "2023-11-19T00:10:47.051756Z"
    },
    "id": "3a0f4e3f",
    "outputId": "4cf6847d-8316-4bc2-ebce-76e9e4be710f",
    "papermill": {
     "duration": 0.025811,
     "end_time": "2023-11-19T00:10:47.054610",
     "exception": false,
     "start_time": "2023-11-19T00:10:47.028799",
     "status": "completed"
    },
    "tags": []
   },
   "outputs": [
    {
     "name": "stdout",
     "output_type": "stream",
     "text": [
      "Num of numerical variables: 1\n",
      "\n",
      "The numerical variables are:  ['tweet_id']\n"
     ]
    }
   ],
   "source": [
    "# Find any numerical variables.\n",
    "numerical = [var for var in df.columns if df[var].dtype!='O']\n",
    "\n",
    "print('Num of numerical variables: {}\\n'.format(len(numerical)))\n",
    "print('The numerical variables are: ', numerical)"
   ]
  },
  {
   "cell_type": "code",
   "execution_count": null,
   "id": "78fc0bb8",
   "metadata": {
    "execution": {
     "iopub.execute_input": "2023-11-19T00:10:47.089204Z",
     "iopub.status.busy": "2023-11-19T00:10:47.088117Z",
     "iopub.status.idle": "2023-11-19T00:10:47.097160Z",
     "shell.execute_reply": "2023-11-19T00:10:47.096244Z"
    },
    "id": "78fc0bb8",
    "papermill": {
     "duration": 0.029459,
     "end_time": "2023-11-19T00:10:47.100343",
     "exception": false,
     "start_time": "2023-11-19T00:10:47.070884",
     "status": "completed"
    },
    "tags": []
   },
   "outputs": [],
   "source": [
    "# Drop the unecessary column (numerical variables)\n",
    "df = df.drop(columns=['tweet_id'])"
   ]
  },
  {
   "cell_type": "code",
   "execution_count": null,
   "id": "552e4713",
   "metadata": {
    "execution": {
     "iopub.execute_input": "2023-11-19T00:10:47.137705Z",
     "iopub.status.busy": "2023-11-19T00:10:47.137238Z",
     "iopub.status.idle": "2023-11-19T00:10:47.167156Z",
     "shell.execute_reply": "2023-11-19T00:10:47.165515Z"
    },
    "id": "552e4713",
    "outputId": "782c2a28-b2e5-4cd6-98c9-082b00a73b51",
    "papermill": {
     "duration": 0.050489,
     "end_time": "2023-11-19T00:10:47.169116",
     "exception": false,
     "start_time": "2023-11-19T00:10:47.118627",
     "status": "completed"
    },
    "tags": []
   },
   "outputs": [
    {
     "name": "stdout",
     "output_type": "stream",
     "text": [
      "Total duplicated rows: 91\n"
     ]
    }
   ],
   "source": [
    "# Count duplicates\n",
    "duplicates_count = df.duplicated().sum()\n",
    "print(f'Total duplicated rows: {duplicates_count}')"
   ]
  },
  {
   "cell_type": "code",
   "execution_count": null,
   "id": "e2567e9b",
   "metadata": {
    "execution": {
     "iopub.execute_input": "2023-11-19T00:10:47.203164Z",
     "iopub.status.busy": "2023-11-19T00:10:47.202391Z",
     "iopub.status.idle": "2023-11-19T00:10:47.222309Z",
     "shell.execute_reply": "2023-11-19T00:10:47.221602Z"
    },
    "id": "e2567e9b",
    "outputId": "eafcc6b4-1127-453b-b6f9-438a607b568c",
    "papermill": {
     "duration": 0.039432,
     "end_time": "2023-11-19T00:10:47.224072",
     "exception": false,
     "start_time": "2023-11-19T00:10:47.184640",
     "status": "completed"
    },
    "tags": []
   },
   "outputs": [
    {
     "data": {
      "text/html": [
       "<div>\n",
       "<style scoped>\n",
       "    .dataframe tbody tr th:only-of-type {\n",
       "        vertical-align: middle;\n",
       "    }\n",
       "\n",
       "    .dataframe tbody tr th {\n",
       "        vertical-align: top;\n",
       "    }\n",
       "\n",
       "    .dataframe thead th {\n",
       "        text-align: right;\n",
       "    }\n",
       "</style>\n",
       "<table border=\"1\" class=\"dataframe\">\n",
       "  <thead>\n",
       "    <tr style=\"text-align: right;\">\n",
       "      <th></th>\n",
       "      <th>sentiment</th>\n",
       "      <th>content</th>\n",
       "    </tr>\n",
       "  </thead>\n",
       "  <tbody>\n",
       "    <tr>\n",
       "      <th>366</th>\n",
       "      <td>worry</td>\n",
       "      <td>I feel so deflated. No more doggy.</td>\n",
       "    </tr>\n",
       "    <tr>\n",
       "      <th>521</th>\n",
       "      <td>worry</td>\n",
       "      <td>Somebody please save the polar bears!</td>\n",
       "    </tr>\n",
       "    <tr>\n",
       "      <th>1026</th>\n",
       "      <td>neutral</td>\n",
       "      <td>I'm at work</td>\n",
       "    </tr>\n",
       "    <tr>\n",
       "      <th>3684</th>\n",
       "      <td>sadness</td>\n",
       "      <td>@dublins98dave me too! I am down 400 euro</td>\n",
       "    </tr>\n",
       "    <tr>\n",
       "      <th>4363</th>\n",
       "      <td>worry</td>\n",
       "      <td>is upset, I left my phone at home again</td>\n",
       "    </tr>\n",
       "    <tr>\n",
       "      <th>...</th>\n",
       "      <td>...</td>\n",
       "      <td>...</td>\n",
       "    </tr>\n",
       "    <tr>\n",
       "      <th>39859</th>\n",
       "      <td>love</td>\n",
       "      <td>Happy Mothers Day</td>\n",
       "    </tr>\n",
       "    <tr>\n",
       "      <th>39898</th>\n",
       "      <td>love</td>\n",
       "      <td>happy mothers day!</td>\n",
       "    </tr>\n",
       "    <tr>\n",
       "      <th>39913</th>\n",
       "      <td>happiness</td>\n",
       "      <td>happy mother's day!</td>\n",
       "    </tr>\n",
       "    <tr>\n",
       "      <th>39915</th>\n",
       "      <td>love</td>\n",
       "      <td>happy mother's day everyone</td>\n",
       "    </tr>\n",
       "    <tr>\n",
       "      <th>39945</th>\n",
       "      <td>love</td>\n",
       "      <td>Happy Mother's Day to all the moms out there!</td>\n",
       "    </tr>\n",
       "  </tbody>\n",
       "</table>\n",
       "<p>173 rows × 2 columns</p>\n",
       "</div>"
      ],
      "text/plain": [
       "       sentiment                                        content\n",
       "366        worry             I feel so deflated. No more doggy.\n",
       "521        worry          Somebody please save the polar bears!\n",
       "1026     neutral                                    I'm at work\n",
       "3684     sadness      @dublins98dave me too! I am down 400 euro\n",
       "4363       worry        is upset, I left my phone at home again\n",
       "...          ...                                            ...\n",
       "39859       love                              Happy Mothers Day\n",
       "39898       love                             happy mothers day!\n",
       "39913  happiness                            happy mother's day!\n",
       "39915       love                    happy mother's day everyone\n",
       "39945       love  Happy Mother's Day to all the moms out there!\n",
       "\n",
       "[173 rows x 2 columns]"
      ]
     },
     "execution_count": 8,
     "metadata": {},
     "output_type": "execute_result"
    }
   ],
   "source": [
    "# Check for duplicates\n",
    "df[df['content'].duplicated() == True]"
   ]
  },
  {
   "cell_type": "code",
   "execution_count": null,
   "id": "be6345a4",
   "metadata": {
    "execution": {
     "iopub.execute_input": "2023-11-19T00:10:47.256839Z",
     "iopub.status.busy": "2023-11-19T00:10:47.256493Z",
     "iopub.status.idle": "2023-11-19T00:10:47.273954Z",
     "shell.execute_reply": "2023-11-19T00:10:47.272701Z"
    },
    "id": "be6345a4",
    "papermill": {
     "duration": 0.036944,
     "end_time": "2023-11-19T00:10:47.276555",
     "exception": false,
     "start_time": "2023-11-19T00:10:47.239611",
     "status": "completed"
    },
    "tags": []
   },
   "outputs": [],
   "source": [
    "# Drop duplicated values\n",
    "index = df[df['content'].duplicated() == True].index\n",
    "df.drop(index, axis = 0, inplace = True)\n",
    "df.reset_index(inplace=True, drop = True)"
   ]
  },
  {
   "cell_type": "code",
   "execution_count": null,
   "id": "d6565185",
   "metadata": {
    "execution": {
     "iopub.execute_input": "2023-11-19T00:10:47.397625Z",
     "iopub.status.busy": "2023-11-19T00:10:47.397111Z",
     "iopub.status.idle": "2023-11-19T00:10:47.402022Z",
     "shell.execute_reply": "2023-11-19T00:10:47.401239Z"
    },
    "id": "d6565185",
    "outputId": "6b4803ba-203d-4e87-dc1e-c0e6b38530dc",
    "papermill": {
     "duration": 0.025758,
     "end_time": "2023-11-19T00:10:47.404945",
     "exception": false,
     "start_time": "2023-11-19T00:10:47.379187",
     "status": "completed"
    },
    "tags": []
   },
   "outputs": [
    {
     "data": {
      "text/plain": [
       "(39827, 2)"
      ]
     },
     "execution_count": 10,
     "metadata": {},
     "output_type": "execute_result"
    }
   ],
   "source": [
    "# Final shape of data after dropping duplicates\n",
    "df.shape"
   ]
  },
  {
   "cell_type": "markdown",
   "id": "230a805d",
   "metadata": {
    "id": "230a805d",
    "papermill": {
     "duration": 0.016419,
     "end_time": "2023-11-19T00:10:47.439469",
     "exception": false,
     "start_time": "2023-11-19T00:10:47.423050",
     "status": "completed"
    },
    "tags": []
   },
   "source": [
    "# Data Exploration: Exploring Class \n",
    "<a id='exploring-class'></a>"
   ]
  },
  {
   "cell_type": "code",
   "execution_count": null,
   "id": "843d1e3e",
   "metadata": {
    "execution": {
     "iopub.execute_input": "2023-11-19T00:10:47.475661Z",
     "iopub.status.busy": "2023-11-19T00:10:47.474976Z",
     "iopub.status.idle": "2023-11-19T00:10:47.482885Z",
     "shell.execute_reply": "2023-11-19T00:10:47.481907Z"
    },
    "id": "843d1e3e",
    "outputId": "aa44413c-c974-4ffa-a7f7-1e44e4a24497",
    "papermill": {
     "duration": 0.028794,
     "end_time": "2023-11-19T00:10:47.485455",
     "exception": false,
     "start_time": "2023-11-19T00:10:47.456661",
     "status": "completed"
    },
    "tags": []
   },
   "outputs": [
    {
     "name": "stdout",
     "output_type": "stream",
     "text": [
      "['empty' 'sadness' 'enthusiasm' 'neutral' 'worry' 'surprise' 'love' 'fun'\n",
      " 'hate' 'happiness' 'boredom' 'relief' 'anger']\n"
     ]
    }
   ],
   "source": [
    "# Unique values from 'sentiment'\n",
    "unique_sentiments = df['sentiment'].unique()\n",
    "print(unique_sentiments)"
   ]
  },
  {
   "cell_type": "code",
   "execution_count": null,
   "id": "7d79d605",
   "metadata": {
    "execution": {
     "iopub.execute_input": "2023-11-19T00:10:47.521558Z",
     "iopub.status.busy": "2023-11-19T00:10:47.521061Z",
     "iopub.status.idle": "2023-11-19T00:10:47.535124Z",
     "shell.execute_reply": "2023-11-19T00:10:47.533852Z"
    },
    "id": "7d79d605",
    "outputId": "8028af0f-851a-40da-e5a8-d4f47c6fe28d",
    "papermill": {
     "duration": 0.0353,
     "end_time": "2023-11-19T00:10:47.537615",
     "exception": false,
     "start_time": "2023-11-19T00:10:47.502315",
     "status": "completed"
    },
    "tags": []
   },
   "outputs": [
    {
     "name": "stdout",
     "output_type": "stream",
     "text": [
      "            Counts  Percentage\n",
      "sentiment                     \n",
      "neutral       8598   21.588370\n",
      "worry         8437   21.184121\n",
      "happiness     5184   13.016295\n",
      "sadness       5154   12.940970\n",
      "love          3785    9.503603\n",
      "surprise      2181    5.476184\n",
      "fun           1775    4.456776\n",
      "relief        1522    3.821528\n",
      "hate          1322    3.319356\n",
      "empty          822    2.063926\n",
      "enthusiasm     758    1.903231\n",
      "boredom        179    0.449444\n",
      "anger          110    0.276195\n",
      "\n",
      "total values: 13\n"
     ]
    }
   ],
   "source": [
    "# Frequency distribution of'sentiment'\n",
    "frequency_counts = df['sentiment'].value_counts()\n",
    "\n",
    "frequency_percentage = (frequency_counts / len(df['sentiment'])) * 100\n",
    "frequency_df = pd.DataFrame({'Counts': frequency_counts, 'Percentage': frequency_percentage})\n",
    "\n",
    "print(frequency_df)\n",
    "\n",
    "# Print total value\n",
    "cardinality = df['sentiment'].nunique()\n",
    "print(f\"\\ntotal values: {cardinality}\")"
   ]
  },
  {
   "cell_type": "code",
   "execution_count": null,
   "id": "318f89fa",
   "metadata": {
    "execution": {
     "iopub.execute_input": "2023-11-19T00:10:47.577038Z",
     "iopub.status.busy": "2023-11-19T00:10:47.576138Z",
     "iopub.status.idle": "2023-11-19T00:10:47.856486Z",
     "shell.execute_reply": "2023-11-19T00:10:47.855489Z"
    },
    "id": "318f89fa",
    "outputId": "2903fa65-2861-4af2-8acb-95fde7d08629",
    "papermill": {
     "duration": 0.299941,
     "end_time": "2023-11-19T00:10:47.858761",
     "exception": false,
     "start_time": "2023-11-19T00:10:47.558820",
     "status": "completed"
    },
    "tags": []
   },
   "outputs": [
    {
     "data": {
      "image/png": "[encoded data removed]",
      "text/plain": [
       "<Figure size 640x480 with 1 Axes>"
      ]
     },
     "metadata": {},
     "output_type": "display_data"
    }
   ],
   "source": [
    "# Extract sentiment values & frequencies\n",
    "sentiment_counts = df['sentiment'].value_counts().sort_index()\n",
    "\n",
    "sentiments = sentiment_counts.index\n",
    "frequencies = sentiment_counts.values\n",
    "\n",
    "# Plot\n",
    "plt.barh(sentiments, frequencies, color='orange')\n",
    "plt.xlabel('Frequency')\n",
    "plt.ylabel('Sentiment')\n",
    "plt.title('Distribution of class \"sentiment\"')\n",
    "plt.gca().invert_yaxis()  # Invert the y-axis to have the highest sentiment at the top\n",
    "plt.show()"
   ]
  },
  {
   "cell_type": "markdown",
   "id": "fce8c259",
   "metadata": {
    "id": "fce8c259",
    "papermill": {
     "duration": 0.016742,
     "end_time": "2023-11-19T00:10:47.895344",
     "exception": false,
     "start_time": "2023-11-19T00:10:47.878602",
     "status": "completed"
    },
    "tags": []
   },
   "source": [
    "Observations:\n",
    "- Classes are imbalanced - each class is not evenly distributed. Imbalance rate <21.32% (anger - neutral)\n",
    "- Tweets primarily convey neutral and negative sentiments"
   ]
  },
  {
   "cell_type": "markdown",
   "id": "60bc136d",
   "metadata": {
    "id": "60bc136d",
    "papermill": {
     "duration": 0.022539,
     "end_time": "2023-11-19T00:10:47.937764",
     "exception": false,
     "start_time": "2023-11-19T00:10:47.915225",
     "status": "completed"
    },
    "tags": []
   },
   "source": [
    "# Data Exploration: Balancing Class\n",
    "<a id='balancing-class'></a>\n",
    "\n",
    "<br>\n",
    "\n",
    "The above result illustrates class imbalance of <21.32%.\n",
    "To find the best ratio, I've experimented with aggregating classes in **five different methods**:\n",
    "\n",
    "\n",
    "**Method 1:** Categorising the data into two primary emotions: Positive, Negative ('Surprise' and 'Neutral' as Negative).\n",
    "\n",
    "\n",
    "![class distribution 1.png](data:image/png;base64,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)\n",
    "\n",
    "\n",
    "**Method 2:** Categorising the data into two primary emotions: Positive, Negative ('Surprise' and 'Neutral' as Positive).\n",
    "\n",
    "![class distribution 2.png](data:image/png;base64,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)\n",
    "\n",
    "\n",
    "**Method 3:** Categorising the data into two primary emotions: Positive, Negative ('Neutral' as Positive, 'Surprise' as Negative).\n",
    "\n",
    "![class distribution 3.png](data:image/png;base64,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)\n",
    "\n",
    "**Method 4:** Categorising the data into two primary emotions: Positive, Negative ('Surprise' as Positive, 'Neutral' as Negative).\n",
    "\n",
    "![class distribution 4.png](data:image/png;base64,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)\n",
    "\n",
    "**Method 5:** Categorising the data into three primary emotions: Positive, Negative, and Neutral\n",
    "\n",
    "![class distribution 5.png](data:image/png;base64,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)\n",
    "\n",
    "\n",
    "When 'Surprise' and 'Neutral' are classified under a separate class 'Neutral', I encounterd an imbalance of up to 13.17%, slightly above the general guideline.\n",
    "\n",
    "(General guideline: data is considered imbalanced when prevalence ≤ 10%)\n",
    "\n",
    "\n",
    "Among the 5 results, method 3 yielded the lowest imbalance at 8.58%. However, I would not choose this method primarily because 'neutral' and 'surprise' rely significantly on the context of the text for differentiation, unlike the others, which are clearly either positive or negative.\n",
    "\n",
    "'Neutral' typically represents a lack of strong emotion or a state of indifference. It's neither strongly positive nor negative.\n",
    "\n",
    "'Surprise' denotes a sudden feeling of astonishment or unexpectedness. It's transient and could be either positive or negative, depending on the context in which it occurs. For instance, a surprise party might evoke positive emotions, while a surprising piece of news might evoke negative emotions.\n",
    "\n",
    "Hence, it's not ideal to bias the neutral emotions towards either the positive or negative.\n"
   ]
  },
  {
   "cell_type": "code",
   "execution_count": null,
   "id": "f4a97d98",
   "metadata": {
    "execution": {
     "iopub.execute_input": "2023-11-19T00:10:47.975664Z",
     "iopub.status.busy": "2023-11-19T00:10:47.975201Z",
     "iopub.status.idle": "2023-11-19T00:10:47.985964Z",
     "shell.execute_reply": "2023-11-19T00:10:47.983492Z"
    },
    "id": "f4a97d98",
    "outputId": "bdfe57ad-e1aa-4402-fd08-4fb428b7d86a",
    "papermill": {
     "duration": 0.03305,
     "end_time": "2023-11-19T00:10:47.988864",
     "exception": false,
     "start_time": "2023-11-19T00:10:47.955814",
     "status": "completed"
    },
    "tags": []
   },
   "outputs": [
    {
     "name": "stdout",
     "output_type": "stream",
     "text": [
      "['empty' 'sadness' 'enthusiasm' 'neutral' 'worry' 'surprise' 'love' 'fun'\n",
      " 'hate' 'happiness' 'boredom' 'relief' 'anger']\n"
     ]
    }
   ],
   "source": [
    "# Values from 'sentiment'\n",
    "unique_sentiments = df['sentiment'].unique()\n",
    "print(unique_sentiments)"
   ]
  },
  {
   "cell_type": "code",
   "execution_count": null,
   "id": "de44a4c1",
   "metadata": {
    "execution": {
     "iopub.execute_input": "2023-11-19T00:10:48.034148Z",
     "iopub.status.busy": "2023-11-19T00:10:48.032639Z",
     "iopub.status.idle": "2023-11-19T00:10:48.043903Z",
     "shell.execute_reply": "2023-11-19T00:10:48.043157Z"
    },
    "id": "de44a4c1",
    "papermill": {
     "duration": 0.036014,
     "end_time": "2023-11-19T00:10:48.047564",
     "exception": false,
     "start_time": "2023-11-19T00:10:48.011550",
     "status": "completed"
    },
    "tags": []
   },
   "outputs": [],
   "source": [
    "# Code for Method 5: grouping 13 labels into 3 primary classes: 'negative', 'positive', 'neutral'\n",
    "sentiment_mapping = {\n",
    "    'empty': 'negative',\n",
    "    'sadness': 'negative',\n",
    "    'worry': 'negative',\n",
    "    'hate': 'negative',\n",
    "    'boredom': 'negative',\n",
    "    'anger': 'negative',\n",
    "    'enthusiasm': 'positive',\n",
    "    'neutral': 'neutral',\n",
    "    'surprise': 'neutral',\n",
    "    'love': 'positive',\n",
    "    'fun': 'positive',\n",
    "    'happiness': 'positive',\n",
    "    'relief': 'positive'\n",
    "}\n",
    "\n",
    "# Create a new col for the mapping\n",
    "df['label'] = df['sentiment'].map(sentiment_mapping)"
   ]
  },
  {
   "cell_type": "code",
   "execution_count": null,
   "id": "b41f868a",
   "metadata": {
    "execution": {
     "iopub.execute_input": "2023-11-19T00:10:48.094254Z",
     "iopub.status.busy": "2023-11-19T00:10:48.093885Z",
     "iopub.status.idle": "2023-11-19T00:10:48.101003Z",
     "shell.execute_reply": "2023-11-19T00:10:48.100270Z"
    },
    "id": "b41f868a",
    "papermill": {
     "duration": 0.032484,
     "end_time": "2023-11-19T00:10:48.103783",
     "exception": false,
     "start_time": "2023-11-19T00:10:48.071299",
     "status": "completed"
    },
    "tags": []
   },
   "outputs": [],
   "source": [
    "# Drop the original column, 'sentiment'\n",
    "df = df.drop(columns=['sentiment'])"
   ]
  },
  {
   "cell_type": "code",
   "execution_count": null,
   "id": "a35c136e",
   "metadata": {
    "execution": {
     "iopub.execute_input": "2023-11-19T00:10:48.142091Z",
     "iopub.status.busy": "2023-11-19T00:10:48.141103Z",
     "iopub.status.idle": "2023-11-19T00:10:48.149135Z",
     "shell.execute_reply": "2023-11-19T00:10:48.148449Z"
    },
    "id": "a35c136e",
    "outputId": "0f4ed083-4aee-4f02-d34a-426484461f63",
    "papermill": {
     "duration": 0.027845,
     "end_time": "2023-11-19T00:10:48.150714",
     "exception": false,
     "start_time": "2023-11-19T00:10:48.122869",
     "status": "completed"
    },
    "tags": []
   },
   "outputs": [
    {
     "name": "stdout",
     "output_type": "stream",
     "text": [
      "['negative' 'positive' 'neutral']\n"
     ]
    }
   ],
   "source": [
    "# Final check - Extract unique values from 'sentiment'\n",
    "import pandas as pd\n",
    "\n",
    "unique_sentiments = df['label'].unique()\n",
    "print(unique_sentiments)"
   ]
  },
  {
   "cell_type": "code",
   "execution_count": null,
   "id": "ae6fec20",
   "metadata": {
    "execution": {
     "iopub.execute_input": "2023-11-19T00:10:48.187471Z",
     "iopub.status.busy": "2023-11-19T00:10:48.186802Z",
     "iopub.status.idle": "2023-11-19T00:10:48.194946Z",
     "shell.execute_reply": "2023-11-19T00:10:48.194334Z"
    },
    "id": "ae6fec20",
    "outputId": "4f2fc1c5-0757-4d1c-9ecc-444ebc6b1da7",
    "papermill": {
     "duration": 0.029214,
     "end_time": "2023-11-19T00:10:48.196794",
     "exception": false,
     "start_time": "2023-11-19T00:10:48.167580",
     "status": "completed"
    },
    "tags": []
   },
   "outputs": [
    {
     "data": {
      "text/html": [
       "<div>\n",
       "<style scoped>\n",
       "    .dataframe tbody tr th:only-of-type {\n",
       "        vertical-align: middle;\n",
       "    }\n",
       "\n",
       "    .dataframe tbody tr th {\n",
       "        vertical-align: top;\n",
       "    }\n",
       "\n",
       "    .dataframe thead th {\n",
       "        text-align: right;\n",
       "    }\n",
       "</style>\n",
       "<table border=\"1\" class=\"dataframe\">\n",
       "  <thead>\n",
       "    <tr style=\"text-align: right;\">\n",
       "      <th></th>\n",
       "      <th>content</th>\n",
       "      <th>label</th>\n",
       "    </tr>\n",
       "  </thead>\n",
       "  <tbody>\n",
       "    <tr>\n",
       "      <th>0</th>\n",
       "      <td>@tiffanylue i know  i was listenin to bad habi...</td>\n",
       "      <td>negative</td>\n",
       "    </tr>\n",
       "    <tr>\n",
       "      <th>1</th>\n",
       "      <td>Layin n bed with a headache  ughhhh...waitin o...</td>\n",
       "      <td>negative</td>\n",
       "    </tr>\n",
       "    <tr>\n",
       "      <th>2</th>\n",
       "      <td>Funeral ceremony...gloomy friday...</td>\n",
       "      <td>negative</td>\n",
       "    </tr>\n",
       "    <tr>\n",
       "      <th>3</th>\n",
       "      <td>wants to hang out with friends SOON!</td>\n",
       "      <td>positive</td>\n",
       "    </tr>\n",
       "    <tr>\n",
       "      <th>4</th>\n",
       "      <td>@dannycastillo We want to trade with someone w...</td>\n",
       "      <td>neutral</td>\n",
       "    </tr>\n",
       "  </tbody>\n",
       "</table>\n",
       "</div>"
      ],
      "text/plain": [
       "                                             content     label\n",
       "0  @tiffanylue i know  i was listenin to bad habi...  negative\n",
       "1  Layin n bed with a headache  ughhhh...waitin o...  negative\n",
       "2                Funeral ceremony...gloomy friday...  negative\n",
       "3               wants to hang out with friends SOON!  positive\n",
       "4  @dannycastillo We want to trade with someone w...   neutral"
      ]
     },
     "execution_count": 18,
     "metadata": {},
     "output_type": "execute_result"
    }
   ],
   "source": [
    "df.head(5)"
   ]
  },
  {
   "cell_type": "code",
   "execution_count": null,
   "id": "6e71bf74",
   "metadata": {
    "execution": {
     "iopub.execute_input": "2023-11-19T00:10:48.263980Z",
     "iopub.status.busy": "2023-11-19T00:10:48.263361Z",
     "iopub.status.idle": "2023-11-19T00:10:48.276585Z",
     "shell.execute_reply": "2023-11-19T00:10:48.275192Z"
    },
    "id": "6e71bf74",
    "outputId": "382b3c0f-5fce-466a-d11a-8453d64c1913",
    "papermill": {
     "duration": 0.058371,
     "end_time": "2023-11-19T00:10:48.282302",
     "exception": false,
     "start_time": "2023-11-19T00:10:48.223931",
     "status": "completed"
    },
    "tags": []
   },
   "outputs": [
    {
     "name": "stdout",
     "output_type": "stream",
     "text": [
      "          Counts  Percentage\n",
      "label                       \n",
      "negative   16024   40.234012\n",
      "positive   13024   32.701434\n",
      "neutral    10779   27.064554\n",
      "\n",
      "total values: 3\n"
     ]
    }
   ],
   "source": [
    "# Calculate the frequency distribution of 'sentiment'\n",
    "frequency_counts = df['label'].value_counts()\n",
    "\n",
    "frequency_percentage = (frequency_counts / len(df['label'])) * 100\n",
    "frequency_df = pd.DataFrame({'Counts': frequency_counts, 'Percentage': frequency_percentage})\n",
    "\n",
    "print(frequency_df)\n",
    "\n",
    "# Total value count\n",
    "cardinality = df['label'].nunique()\n",
    "print(f\"\\ntotal values: {cardinality}\")"
   ]
  },
  {
   "cell_type": "code",
   "execution_count": null,
   "id": "4d29f46e",
   "metadata": {
    "execution": {
     "iopub.execute_input": "2023-11-19T00:10:48.330271Z",
     "iopub.status.busy": "2023-11-19T00:10:48.328702Z",
     "iopub.status.idle": "2023-11-19T00:10:48.511756Z",
     "shell.execute_reply": "2023-11-19T00:10:48.510321Z"
    },
    "id": "4d29f46e",
    "outputId": "3cbaee9e-cd62-421d-fc90-70219f42b2e4",
    "papermill": {
     "duration": 0.206031,
     "end_time": "2023-11-19T00:10:48.514439",
     "exception": false,
     "start_time": "2023-11-19T00:10:48.308408",
     "status": "completed"
    },
    "tags": []
   },
   "outputs": [
    {
     "data": {
      "image/png": "[encoded data removed]",
      "text/plain": [
       "<Figure size 640x480 with 1 Axes>"
      ]
     },
     "metadata": {},
     "output_type": "display_data"
    }
   ],
   "source": [
    "sentiment_counts = df['label'].value_counts().sort_index()\n",
    "\n",
    "# Extract sentiment values & frequencies\n",
    "sentiments = sentiment_counts.index\n",
    "frequencies = sentiment_counts.values\n",
    "\n",
    "total = sum(frequencies)  # Calculate the total frequency\n",
    "\n",
    "plt.barh(sentiments, frequencies, color='orange')\n",
    "plt.xlabel('Frequency')\n",
    "plt.ylabel('Sentiment')\n",
    "plt.title('Distribution of the combined classes (sentiment)')\n",
    "plt.gca().invert_yaxis()\n",
    "\n",
    "# Annotate each bar with its percentage\n",
    "for index, value in enumerate(frequencies):\n",
    "    percentage = (value / total) * 100\n",
    "    plt.text(value - (max(frequencies) * 0.09), index, f'{percentage:.2f}%', ha='center', va='center', color='black')\n",
    "\n",
    "plt.show()"
   ]
  },
  {
   "cell_type": "code",
   "execution_count": null,
   "id": "d7f86a2c",
   "metadata": {
    "execution": {
     "iopub.execute_input": "2023-11-19T00:10:48.554703Z",
     "iopub.status.busy": "2023-11-19T00:10:48.554294Z",
     "iopub.status.idle": "2023-11-19T00:10:48.568734Z",
     "shell.execute_reply": "2023-11-19T00:10:48.567872Z"
    },
    "id": "d7f86a2c",
    "outputId": "c355c0a4-f2be-4c54-964a-4103d0d5e4a7",
    "papermill": {
     "duration": 0.036927,
     "end_time": "2023-11-19T00:10:48.571118",
     "exception": false,
     "start_time": "2023-11-19T00:10:48.534191",
     "status": "completed"
    },
    "tags": []
   },
   "outputs": [
    {
     "data": {
      "text/html": [
       "<div>\n",
       "<style scoped>\n",
       "    .dataframe tbody tr th:only-of-type {\n",
       "        vertical-align: middle;\n",
       "    }\n",
       "\n",
       "    .dataframe tbody tr th {\n",
       "        vertical-align: top;\n",
       "    }\n",
       "\n",
       "    .dataframe thead th {\n",
       "        text-align: right;\n",
       "    }\n",
       "</style>\n",
       "<table border=\"1\" class=\"dataframe\">\n",
       "  <thead>\n",
       "    <tr style=\"text-align: right;\">\n",
       "      <th></th>\n",
       "      <th>content</th>\n",
       "      <th>label_num</th>\n",
       "    </tr>\n",
       "  </thead>\n",
       "  <tbody>\n",
       "    <tr>\n",
       "      <th>0</th>\n",
       "      <td>@tiffanylue i know  i was listenin to bad habi...</td>\n",
       "      <td>0</td>\n",
       "    </tr>\n",
       "    <tr>\n",
       "      <th>1</th>\n",
       "      <td>Layin n bed with a headache  ughhhh...waitin o...</td>\n",
       "      <td>0</td>\n",
       "    </tr>\n",
       "    <tr>\n",
       "      <th>2</th>\n",
       "      <td>Funeral ceremony...gloomy friday...</td>\n",
       "      <td>0</td>\n",
       "    </tr>\n",
       "    <tr>\n",
       "      <th>3</th>\n",
       "      <td>wants to hang out with friends SOON!</td>\n",
       "      <td>1</td>\n",
       "    </tr>\n",
       "    <tr>\n",
       "      <th>4</th>\n",
       "      <td>@dannycastillo We want to trade with someone w...</td>\n",
       "      <td>2</td>\n",
       "    </tr>\n",
       "  </tbody>\n",
       "</table>\n",
       "</div>"
      ],
      "text/plain": [
       "                                             content  label_num\n",
       "0  @tiffanylue i know  i was listenin to bad habi...          0\n",
       "1  Layin n bed with a headache  ughhhh...waitin o...          0\n",
       "2                Funeral ceremony...gloomy friday...          0\n",
       "3               wants to hang out with friends SOON!          1\n",
       "4  @dannycastillo We want to trade with someone w...          2"
      ]
     },
     "execution_count": 21,
     "metadata": {},
     "output_type": "execute_result"
    }
   ],
   "source": [
    "# Mapping sentiment num / encode\n",
    "df[\"label_num\"] = df.label.map({\n",
    "    'negative': 0,\n",
    "    'positive': 1,\n",
    "    'neutral': 2\n",
    "})\n",
    "\n",
    "df = df.drop(columns=['label'])\n",
    "df.head(5)"
   ]
  },
  {
   "cell_type": "code",
   "execution_count": null,
   "id": "d2f3c21e",
   "metadata": {
    "execution": {
     "iopub.execute_input": "2023-11-19T00:10:48.606380Z",
     "iopub.status.busy": "2023-11-19T00:10:48.605506Z",
     "iopub.status.idle": "2023-11-19T00:10:48.611414Z",
     "shell.execute_reply": "2023-11-19T00:10:48.610409Z"
    },
    "id": "d2f3c21e",
    "outputId": "76ac74e8-6c54-4f1d-d4b8-b3a03611240c",
    "papermill": {
     "duration": 0.025057,
     "end_time": "2023-11-19T00:10:48.613134",
     "exception": false,
     "start_time": "2023-11-19T00:10:48.588077",
     "status": "completed"
    },
    "tags": []
   },
   "outputs": [
    {
     "name": "stdout",
     "output_type": "stream",
     "text": [
      "39827\n",
      "39827\n"
     ]
    }
   ],
   "source": [
    "X = df['content']\n",
    "y = df['label_num']\n",
    "\n",
    "# Making sure that X y have the same length\n",
    "print(len(X))\n",
    "print(len(y))"
   ]
  },
  {
   "cell_type": "markdown",
   "id": "2262d3b9",
   "metadata": {
    "id": "2262d3b9",
    "papermill": {
     "duration": 0.016121,
     "end_time": "2023-11-19T00:10:48.645730",
     "exception": false,
     "start_time": "2023-11-19T00:10:48.629609",
     "status": "completed"
    },
    "tags": []
   },
   "source": [
    "# Preprocessing: Data Cleaning\n",
    "<a id='data-cleaning'></a>"
   ]
  },
  {
   "cell_type": "code",
   "execution_count": null,
   "id": "6b378ee1",
   "metadata": {
    "execution": {
     "iopub.execute_input": "2023-11-19T00:10:48.680357Z",
     "iopub.status.busy": "2023-11-19T00:10:48.679769Z",
     "iopub.status.idle": "2023-11-19T00:10:53.135814Z",
     "shell.execute_reply": "2023-11-19T00:10:53.133910Z"
    },
    "id": "6b378ee1",
    "papermill": {
     "duration": 4.476663,
     "end_time": "2023-11-19T00:10:53.138896",
     "exception": false,
     "start_time": "2023-11-19T00:10:48.662233",
     "status": "completed"
    },
    "tags": []
   },
   "outputs": [],
   "source": [
    "# Cleaning and lemmatising\n",
    "cleaned = []\n",
    "\n",
    "for sen in range(0, len(X)):\n",
    "    # Remove all the special characters (any letter or a digit)\n",
    "    document = re.sub(r'\\W', ' ', str(X[sen]))\n",
    "\n",
    "    # remove all single characters (surrounded by whitespace)\n",
    "    document = re.sub(r'\\s+[a-zA-Z]\\s+', ' ', document)\n",
    "\n",
    "    # Remove single characters from the start\n",
    "    document = re.sub(r'\\^[a-zA-Z]\\s+', ' ', document)\n",
    "\n",
    "    # Substituting multiple spaces with single space\n",
    "    document = re.sub(r'\\s+', ' ', document, flags=re.I)\n",
    "\n",
    "    # Removing prefixed 'b'\n",
    "    document = re.sub(r'^b\\s+', '', document)\n",
    "\n",
    "    # Converting to Lowercase\n",
    "    document = document.lower()\n",
    "\n",
    "    # Lemmatization- splits into list of words ['The', 'quick', ....]\n",
    "    document = document.split()\n",
    "\n",
    "    lemma = WordNetLemmatizer()\n",
    "    document = [lemma.lemmatize(word) for word in document]\n",
    "    document = ' '.join(document)\n",
    "    cleaned.append(document)"
   ]
  },
  {
   "cell_type": "code",
   "execution_count": null,
   "id": "ca56dee4",
   "metadata": {
    "execution": {
     "iopub.execute_input": "2023-11-19T00:10:53.177090Z",
     "iopub.status.busy": "2023-11-19T00:10:53.175552Z",
     "iopub.status.idle": "2023-11-19T00:10:53.182696Z",
     "shell.execute_reply": "2023-11-19T00:10:53.181687Z"
    },
    "id": "ca56dee4",
    "outputId": "0d2c8446-3994-41ac-fad3-49b8e9b8626e",
    "papermill": {
     "duration": 0.027272,
     "end_time": "2023-11-19T00:10:53.184531",
     "exception": false,
     "start_time": "2023-11-19T00:10:53.157259",
     "status": "completed"
    },
    "tags": []
   },
   "outputs": [
    {
     "data": {
      "text/plain": [
       "39827"
      ]
     },
     "execution_count": 24,
     "metadata": {},
     "output_type": "execute_result"
    }
   ],
   "source": [
    "# Making sure that cleaned data has the same length as X\n",
    "len(cleaned)"
   ]
  },
  {
   "cell_type": "markdown",
   "id": "18e8cd54",
   "metadata": {
    "id": "18e8cd54",
    "papermill": {
     "duration": 0.017149,
     "end_time": "2023-11-19T00:10:53.219504",
     "exception": false,
     "start_time": "2023-11-19T00:10:53.202355",
     "status": "completed"
    },
    "tags": []
   },
   "source": [
    "# Preprocessing: Exploring Cleaned Data & Investigating Stopwords in Text\n",
    "<a id='preprocessing'></a>"
   ]
  },
  {
   "cell_type": "code",
   "execution_count": null,
   "id": "ff2a7b1f",
   "metadata": {
    "execution": {
     "iopub.execute_input": "2023-11-19T00:10:53.258103Z",
     "iopub.status.busy": "2023-11-19T00:10:53.257660Z",
     "iopub.status.idle": "2023-11-19T00:11:05.310846Z",
     "shell.execute_reply": "2023-11-19T00:11:05.309213Z"
    },
    "id": "ff2a7b1f",
    "outputId": "ab559696-2149-43c7-d430-7b8545f8c9bb",
    "papermill": {
     "duration": 12.075178,
     "end_time": "2023-11-19T00:11:05.312856",
     "exception": false,
     "start_time": "2023-11-19T00:10:53.237678",
     "status": "completed"
    },
    "tags": []
   },
   "outputs": [
    {
     "name": "stderr",
     "output_type": "stream",
     "text": [
      "[nltk_data] Downloading package punkt to /usr/share/nltk_data...\n",
      "[nltk_data]   Package punkt is already up-to-date!\n"
     ]
    }
   ],
   "source": [
    "# Count stopwords present in the data\n",
    "nltk.download('punkt')\n",
    "def count_stopwords(text):\n",
    "    stop_words = set(stopwords.words(\"english\"))\n",
    "    words = nltk.word_tokenize(text)\n",
    "    return len(set(words) & stop_words)\n",
    "\n",
    "# Add a new col 'stop_words' that contains the count of stopwords\n",
    "df['stop_words'] = df['content'].apply(count_stopwords)\n",
    "value_counts = df['stop_words'].value_counts()"
   ]
  },
  {
   "cell_type": "code",
   "execution_count": null,
   "id": "4518999d",
   "metadata": {
    "execution": {
     "iopub.execute_input": "2023-11-19T00:11:05.348470Z",
     "iopub.status.busy": "2023-11-19T00:11:05.347970Z",
     "iopub.status.idle": "2023-11-19T00:11:05.465026Z",
     "shell.execute_reply": "2023-11-19T00:11:05.463048Z"
    },
    "id": "4518999d",
    "outputId": "17f1a4c4-8f7d-4801-af08-cdcc9f9d0f3f",
    "papermill": {
     "duration": 0.137269,
     "end_time": "2023-11-19T00:11:05.467136",
     "exception": false,
     "start_time": "2023-11-19T00:11:05.329867",
     "status": "completed"
    },
    "tags": []
   },
   "outputs": [
    {
     "name": "stdout",
     "output_type": "stream",
     "text": [
      "                                                 content  label_num  \\\n",
      "0      @tiffanylue i know  i was listenin to bad habi...          0   \n",
      "1      Layin n bed with a headache  ughhhh...waitin o...          0   \n",
      "3                   wants to hang out with friends SOON!          1   \n",
      "4      @dannycastillo We want to trade with someone w...          2   \n",
      "5      Re-pinging @ghostridah14: why didn't you go to...          0   \n",
      "...                                                  ...        ...   \n",
      "39819  @jasimmo Ooo showing of your French skills!! l...          2   \n",
      "39820  @sendsome2me haha, yeah. Twitter has many uses...          2   \n",
      "39823                     Happy Mothers Day  All my love          1   \n",
      "39824  Happy Mother's Day to all the mommies out ther...          1   \n",
      "39826  @mopedronin bullet train from tokyo    the gf ...          1   \n",
      "\n",
      "       stop_words  \n",
      "0               6  \n",
      "1               4  \n",
      "3               3  \n",
      "4               6  \n",
      "5               5  \n",
      "...           ...  \n",
      "39819           6  \n",
      "39820          11  \n",
      "39823           1  \n",
      "39824          12  \n",
      "39826           6  \n",
      "\n",
      "[36279 rows x 3 columns]\n"
     ]
    }
   ],
   "source": [
    "# Count the number of stopwords in the data\n",
    "temp = df.copy()\n",
    "stop_words = set(stopwords.words(\"english\"))\n",
    "temp['stop_words'] = temp['content'].apply(lambda x: len(set(x.split()) & stop_words))\n",
    "\n",
    "# Print rows that contain stopwords\n",
    "rows_with_stopwords = temp[temp['stop_words'] > 0]\n",
    "print(rows_with_stopwords)"
   ]
  },
  {
   "cell_type": "code",
   "execution_count": null,
   "id": "09f7e0bd",
   "metadata": {
    "execution": {
     "iopub.execute_input": "2023-11-19T00:11:05.505614Z",
     "iopub.status.busy": "2023-11-19T00:11:05.505140Z",
     "iopub.status.idle": "2023-11-19T00:11:05.513228Z",
     "shell.execute_reply": "2023-11-19T00:11:05.511844Z"
    },
    "id": "09f7e0bd",
    "outputId": "17818240-0e22-4f19-fa10-1165489d8252",
    "papermill": {
     "duration": 0.030402,
     "end_time": "2023-11-19T00:11:05.515427",
     "exception": false,
     "start_time": "2023-11-19T00:11:05.485025",
     "status": "completed"
    },
    "tags": []
   },
   "outputs": [
    {
     "data": {
      "text/plain": [
       "'wants to hang out with friends SOON!'"
      ]
     },
     "execution_count": 27,
     "metadata": {},
     "output_type": "execute_result"
    }
   ],
   "source": [
    "# Explore tweet that contains stopwords\n",
    "df['content'][3]\n",
    "# df.loc[3]"
   ]
  },
  {
   "cell_type": "code",
   "execution_count": null,
   "id": "a53f02c7",
   "metadata": {
    "execution": {
     "iopub.execute_input": "2023-11-19T00:11:05.553556Z",
     "iopub.status.busy": "2023-11-19T00:11:05.553102Z",
     "iopub.status.idle": "2023-11-19T00:11:05.560565Z",
     "shell.execute_reply": "2023-11-19T00:11:05.559573Z"
    },
    "id": "a53f02c7",
    "outputId": "ac5ce984-b06f-4d85-da26-540811ced9c3",
    "papermill": {
     "duration": 0.029199,
     "end_time": "2023-11-19T00:11:05.562410",
     "exception": false,
     "start_time": "2023-11-19T00:11:05.533211",
     "status": "completed"
    },
    "tags": []
   },
   "outputs": [
    {
     "data": {
      "text/plain": [
       "3"
      ]
     },
     "execution_count": 28,
     "metadata": {},
     "output_type": "execute_result"
    }
   ],
   "source": [
    "# Count stopwords in index 3\n",
    "stop_words = set(stopwords.words(\"english\"))\n",
    "df_indx = df['content'][3]\n",
    "stopword_count = len([word for word in df_indx.split() if word in stop_words])\n",
    "stopword_count"
   ]
  },
  {
   "cell_type": "code",
   "execution_count": null,
   "id": "291b371e",
   "metadata": {
    "execution": {
     "iopub.execute_input": "2023-11-19T00:11:05.599420Z",
     "iopub.status.busy": "2023-11-19T00:11:05.598878Z",
     "iopub.status.idle": "2023-11-19T00:11:05.607032Z",
     "shell.execute_reply": "2023-11-19T00:11:05.606039Z"
    },
    "id": "291b371e",
    "outputId": "bfd4f2b3-e628-49ad-b347-284b07775ec9",
    "papermill": {
     "duration": 0.02992,
     "end_time": "2023-11-19T00:11:05.609937",
     "exception": false,
     "start_time": "2023-11-19T00:11:05.580017",
     "status": "completed"
    },
    "tags": []
   },
   "outputs": [
    {
     "name": "stdout",
     "output_type": "stream",
     "text": [
      "Stopwords in df['content'][3]:\n",
      "['to', 'out', 'with']\n"
     ]
    },
    {
     "data": {
      "text/plain": [
       "\"\\nThe cleaned sentence from 4th row, ['wants to hang out with friends SOON!']\\ncontains 3 stopwords, 'to', 'out', and 'with'\\n\""
      ]
     },
     "execution_count": 29,
     "metadata": {},
     "output_type": "execute_result"
    }
   ],
   "source": [
    "# Print all the stopwords in index 3\n",
    "stopwords_in_content = [word for word in df_indx.split() if word in stop_words]\n",
    "\n",
    "print(\"Stopwords in df['content'][3]:\")\n",
    "print(stopwords_in_content)\n",
    "\n",
    "'''\n",
    "The cleaned sentence from 4th row, ['wants to hang out with friends SOON!']\n",
    "contains 3 stopwords, 'to', 'out', and 'with'\n",
    "'''"
   ]
  },
  {
   "cell_type": "markdown",
   "id": "caf838ac",
   "metadata": {
    "id": "caf838ac",
    "papermill": {
     "duration": 0.017817,
     "end_time": "2023-11-19T00:11:05.647313",
     "exception": false,
     "start_time": "2023-11-19T00:11:05.629496",
     "status": "completed"
    },
    "tags": []
   },
   "source": [
    "# Preprocessing: Tokenisation\n",
    "<a id='tokenisation'></a>"
   ]
  },
  {
   "cell_type": "code",
   "execution_count": null,
   "id": "c65f81f7",
   "metadata": {
    "execution": {
     "iopub.execute_input": "2023-11-19T00:11:05.687388Z",
     "iopub.status.busy": "2023-11-19T00:11:05.686933Z",
     "iopub.status.idle": "2023-11-19T00:11:06.287951Z",
     "shell.execute_reply": "2023-11-19T00:11:06.287148Z"
    },
    "id": "c65f81f7",
    "outputId": "bd4cd6c7-c8f6-45df-9b6c-5ffb5d129977",
    "papermill": {
     "duration": 0.62331,
     "end_time": "2023-11-19T00:11:06.289690",
     "exception": false,
     "start_time": "2023-11-19T00:11:05.666380",
     "status": "completed"
    },
    "tags": []
   },
   "outputs": [
    {
     "name": "stdout",
     "output_type": "stream",
     "text": [
      "<class 'list'>\n",
      "39827\n",
      "tiffanylue know wa listenin to bad habit earlier and started freakin at his part\n",
      "layin bed with headache ughhhh waitin on your call\n",
      "funeral ceremony gloomy friday\n",
      "want to hang out with friend soon\n",
      "dannycastillo we want to trade with someone who ha houston ticket but no one will\n",
      "re pinging ghostridah14 why didn you go to prom bc my bf didn like my friend\n",
      "i should be sleep but im not thinking about an old friend who want but he married now damn amp he want me 2 scandalous\n",
      "hmmm http www djhero com is down\n",
      "charviray charlene my love miss you\n",
      "kelcouch m sorry at least it friday\n",
      "cant fall asleep\n",
      "choked on her retainer\n",
      "ugh have to beat this stupid song to get to the next rude\n",
      "brodyjenner if watch the hill in london will realise what tourture it is because were week and week late just watch itonlinelol\n",
      "got the news\n"
     ]
    }
   ],
   "source": [
    "cleaned_tokenized = []\n",
    "for each in cleaned:\n",
    "    doc = sent_tokenize(each)\n",
    "    for sentence in doc:\n",
    "        cleaned_tokenized.append(sentence)\n",
    "\n",
    "# Type and length of the cleaned & tokenised sentence\n",
    "print(type(cleaned_tokenized))\n",
    "print(len(cleaned_tokenized))\n",
    "\n",
    "# Print the fist 15 lines of the cleaned & tokenised sentence\n",
    "for i in range(15):\n",
    "  print(cleaned_tokenized[i])"
   ]
  },
  {
   "cell_type": "code",
   "execution_count": null,
   "id": "6c436737",
   "metadata": {
    "execution": {
     "iopub.execute_input": "2023-11-19T00:11:06.326755Z",
     "iopub.status.busy": "2023-11-19T00:11:06.326227Z",
     "iopub.status.idle": "2023-11-19T00:11:06.339491Z",
     "shell.execute_reply": "2023-11-19T00:11:06.338410Z"
    },
    "id": "6c436737",
    "papermill": {
     "duration": 0.034016,
     "end_time": "2023-11-19T00:11:06.341301",
     "exception": false,
     "start_time": "2023-11-19T00:11:06.307285",
     "status": "completed"
    },
    "tags": []
   },
   "outputs": [],
   "source": [
    "# Crate a new colum that contains processed text\n",
    "df['processed_content'] = cleaned_tokenized\n",
    "\n",
    "# Reorder col\n",
    "desired_order = ['content', 'processed_content', 'label_num']\n",
    "df = df[desired_order]\n",
    "df.head(10)\n",
    "\n",
    "X = cleaned_tokenized"
   ]
  },
  {
   "cell_type": "code",
   "execution_count": null,
   "id": "92512354",
   "metadata": {
    "execution": {
     "iopub.execute_input": "2023-11-19T00:11:06.378361Z",
     "iopub.status.busy": "2023-11-19T00:11:06.377403Z",
     "iopub.status.idle": "2023-11-19T00:11:06.385685Z",
     "shell.execute_reply": "2023-11-19T00:11:06.384919Z"
    },
    "id": "92512354",
    "outputId": "f3e854da-34b8-4e96-fd12-3b834d778821",
    "papermill": {
     "duration": 0.028836,
     "end_time": "2023-11-19T00:11:06.387369",
     "exception": false,
     "start_time": "2023-11-19T00:11:06.358533",
     "status": "completed"
    },
    "tags": []
   },
   "outputs": [
    {
     "data": {
      "text/plain": [
       "content              wants to hang out with friends SOON!\n",
       "processed_content       want to hang out with friend soon\n",
       "label_num                                               1\n",
       "Name: 3, dtype: object"
      ]
     },
     "execution_count": 32,
     "metadata": {},
     "output_type": "execute_result"
    }
   ],
   "source": [
    "# Pick a random row, count SW in that sentence\n",
    "df.loc[3]"
   ]
  },
  {
   "cell_type": "markdown",
   "id": "95cd05b3",
   "metadata": {
    "id": "95cd05b3",
    "papermill": {
     "duration": 0.018708,
     "end_time": "2023-11-19T00:11:06.426105",
     "exception": false,
     "start_time": "2023-11-19T00:11:06.407397",
     "status": "completed"
    },
    "tags": []
   },
   "source": [
    "# Feature Engineering: Vectorising Using TF-IDF\n",
    "<a id='tfidf'></a>"
   ]
  },
  {
   "cell_type": "code",
   "execution_count": null,
   "id": "fd143169",
   "metadata": {
    "execution": {
     "iopub.execute_input": "2023-11-19T00:11:06.465861Z",
     "iopub.status.busy": "2023-11-19T00:11:06.465523Z",
     "iopub.status.idle": "2023-11-19T00:11:09.420107Z",
     "shell.execute_reply": "2023-11-19T00:11:09.419169Z"
    },
    "id": "fd143169",
    "papermill": {
     "duration": 2.977626,
     "end_time": "2023-11-19T00:11:09.422860",
     "exception": false,
     "start_time": "2023-11-19T00:11:06.445234",
     "status": "completed"
    },
    "tags": []
   },
   "outputs": [],
   "source": [
    "count_vectorizer = CountVectorizer()\n",
    "count_vectorizer.fit_transform(X)\n",
    "freq_term_matrix = count_vectorizer.transform(X)      # CV sparse matrix\n",
    "\n",
    "tfidf = TfidfTransformer(norm = \"l2\")\n",
    "tfidf.fit(freq_term_matrix)\n",
    "tf_idf_matrix = tfidf.fit_transform(freq_term_matrix) # tf-idf sparse matrix\n",
    "# print(tf_idf_matrix)\n",
    "dense_tf_idf_matrix = tf_idf_matrix.toarray()         # tf-idf dense matrix\n",
    "# print(dense_tf_idf_matrix)\n",
    "\n",
    "X_train, X_test, y_train, y_test = train_test_split(tf_idf_matrix, y, test_size=0.2, random_state=42)"
   ]
  },
  {
   "cell_type": "markdown",
   "id": "f23843d8",
   "metadata": {
    "id": "f23843d8",
    "papermill": {
     "duration": 0.017481,
     "end_time": "2023-11-19T00:11:09.459493",
     "exception": false,
     "start_time": "2023-11-19T00:11:09.442012",
     "status": "completed"
    },
    "tags": []
   },
   "source": [
    "# Model Training/Testing/Evaluation: MNB\n",
    "<a id='mnb'></a>"
   ]
  },
  {
   "cell_type": "code",
   "execution_count": null,
   "id": "cad19ec8",
   "metadata": {
    "execution": {
     "iopub.execute_input": "2023-11-19T00:11:09.496535Z",
     "iopub.status.busy": "2023-11-19T00:11:09.496192Z",
     "iopub.status.idle": "2023-11-19T00:11:10.073276Z",
     "shell.execute_reply": "2023-11-19T00:11:10.072389Z"
    },
    "id": "cad19ec8",
    "outputId": "12614a13-5a54-4401-cd3e-55dfa9905441",
    "papermill": {
     "duration": 0.598125,
     "end_time": "2023-11-19T00:11:10.075159",
     "exception": false,
     "start_time": "2023-11-19T00:11:09.477034",
     "status": "completed"
    },
    "tags": []
   },
   "outputs": [
    {
     "name": "stdout",
     "output_type": "stream",
     "text": [
      "Classification Report (Cross-Validation):\n",
      "               precision    recall  f1-score   support\n",
      "\n",
      "           0       0.49      0.92      0.64     12834\n",
      "           1       0.63      0.45      0.53     10395\n",
      "           2       0.53      0.02      0.05      8632\n",
      "\n",
      "    accuracy                           0.53     31861\n",
      "   macro avg       0.55      0.47      0.41     31861\n",
      "weighted avg       0.55      0.53      0.44     31861\n",
      "\n",
      "Accuracy (Cross-Validation): 0.5254386240231004\n",
      "Classification Report (Test Data):\n",
      "               precision    recall  f1-score   support\n",
      "\n",
      "           0       0.49      0.91      0.64      3190\n",
      "           1       0.65      0.49      0.56      2629\n",
      "           2       0.50      0.03      0.05      2147\n",
      "\n",
      "    accuracy                           0.53      7966\n",
      "   macro avg       0.55      0.48      0.42      7966\n",
      "weighted avg       0.55      0.53      0.46      7966\n",
      "\n",
      "Accuracy (Test Data): 0.5333919156414763\n"
     ]
    },
    {
     "data": {
      "image/png": "[encoded data removed]",
      "text/plain": [
       "<Figure size 800x600 with 1 Axes>"
      ]
     },
     "metadata": {},
     "output_type": "display_data"
    }
   ],
   "source": [
    "model = MultinomialNB()\n",
    "\n",
    "# Train\n",
    "model.fit(X_train, y_train)\n",
    "\n",
    "# Test\n",
    "y_pred = model.predict(X_test)\n",
    "\n",
    "# Evaluate\n",
    "cv = StratifiedKFold(n_splits=5, shuffle=True, random_state=42)\n",
    "\n",
    "y_pred_cv = cross_val_predict(model, X_train, y_train, cv=cv)\n",
    "\n",
    "classification_rep = classification_report(y_train, y_pred_cv)\n",
    "print(\"Classification Report (Cross-Validation):\\n\", classification_rep)\n",
    "\n",
    "accuracy = accuracy_score(y_train, y_pred_cv)\n",
    "print(\"Accuracy (Cross-Validation):\", accuracy)\n",
    "\n",
    "model.fit(X_train, y_train)\n",
    "y_pred_test = model.predict(X_test)\n",
    "\n",
    "classification_rep_test = classification_report(y_test, y_pred_test)\n",
    "print(\"Classification Report (Test Data):\\n\", classification_rep_test)\n",
    "\n",
    "accuracy_test = accuracy_score(y_test, y_pred_test)\n",
    "print(\"Accuracy (Test Data):\", accuracy_test)\n",
    "\n",
    "import seaborn as sns\n",
    "import matplotlib.pyplot as plt\n",
    "from sklearn.metrics import confusion_matrix\n",
    "\n",
    "# Calculating the confusion matrix\n",
    "confusion_mat = confusion_matrix(y_test, y_pred)\n",
    "\n",
    "# Heatmap of the confusion matrix\n",
    "plt.figure(figsize=(8, 6))\n",
    "sns.heatmap(confusion_mat, annot=True, fmt='d', cmap='Blues', cbar=False)\n",
    "plt.xlabel('Predicted Labels')\n",
    "plt.ylabel('True Labels')\n",
    "plt.title('Confusion Matrix NB')\n",
    "plt.show()"
   ]
  },
  {
   "cell_type": "markdown",
   "id": "6f5a7857",
   "metadata": {
    "id": "6f5a7857",
    "papermill": {
     "duration": 0.019466,
     "end_time": "2023-11-19T00:11:10.115333",
     "exception": false,
     "start_time": "2023-11-19T00:11:10.095867",
     "status": "completed"
    },
    "tags": []
   },
   "source": [
    "# Model Training/Testing/Evaluation: MLP\n",
    "<a id='mlp'></a>"
   ]
  },
  {
   "cell_type": "code",
   "execution_count": null,
   "id": "0d81e66a",
   "metadata": {
    "execution": {
     "iopub.execute_input": "2023-11-19T00:11:10.158507Z",
     "iopub.status.busy": "2023-11-19T00:11:10.158120Z",
     "iopub.status.idle": "2023-11-19T00:56:31.595365Z",
     "shell.execute_reply": "2023-11-19T00:56:31.594059Z"
    },
    "id": "0d81e66a",
    "outputId": "d64d6773-3de3-4d0b-b50a-cc2e57af268b",
    "papermill": {
     "duration": 2721.461881,
     "end_time": "2023-11-19T00:56:31.597457",
     "exception": false,
     "start_time": "2023-11-19T00:11:10.135576",
     "status": "completed"
    },
    "tags": []
   },
   "outputs": [
    {
     "name": "stdout",
     "output_type": "stream",
     "text": [
      "Accuracy: 0.5233\n",
      "Precision: 0.5242\n",
      "Recall: 0.5233\n",
      "F1-score: 0.5235\n"
     ]
    },
    {
     "data": {
      "image/png": "[encoded data removed]",
      "text/plain": [
       "<Figure size 1000x600 with 1 Axes>"
      ]
     },
     "metadata": {},
     "output_type": "display_data"
    }
   ],
   "source": [
    "mlp_model = MLPClassifier(hidden_layer_sizes=(100, 100), alpha = 0.01, max_iter=100)\n",
    "\n",
    "# Train\n",
    "history = mlp_model.fit(X_train, y_train)\n",
    "\n",
    "# Test\n",
    "y_pred = mlp_model.predict(X_test)\n",
    "\n",
    "# Evaluate\n",
    "accuracy = accuracy_score(y_test, y_pred)\n",
    "precision = precision_score(y_test, y_pred, average='weighted')\n",
    "recall = recall_score(y_test, y_pred, average='weighted')\n",
    "f1 = f1_score(y_test, y_pred, average='weighted')\n",
    "\n",
    "print(f\"Accuracy: {accuracy:.4f}\")\n",
    "print(f\"Precision: {precision:.4f}\")\n",
    "print(f\"Recall: {recall:.4f}\")\n",
    "print(f\"F1-score: {f1:.4f}\")\n",
    "\n",
    "train_loss = history.loss_curve_\n",
    "num_epochs = len(train_loss)\n",
    "\n",
    "epochs = range(1, num_epochs + 1)\n",
    "\n",
    "plt.figure(figsize=(10, 6))\n",
    "plt.plot(epochs, train_loss, 'b', label='Training loss')\n",
    "plt.title('Training Loss Curve')\n",
    "plt.xlabel('Epochs')\n",
    "plt.ylabel('Loss')\n",
    "plt.legend()\n",
    "plt.grid(True)\n",
    "plt.show()"
   ]
  },
  {
   "cell_type": "markdown",
   "id": "bbdafc41",
   "metadata": {
    "id": "bbdafc41",
    "papermill": {
     "duration": 0.01948,
     "end_time": "2023-11-19T00:56:31.638159",
     "exception": false,
     "start_time": "2023-11-19T00:56:31.618679",
     "status": "completed"
    },
    "tags": []
   },
   "source": [
    "# Model Training/Testing/Evaluation: SVM\n",
    "<a id='svm'></a>"
   ]
  },
  {
   "cell_type": "code",
   "execution_count": null,
   "id": "6be8f28e",
   "metadata": {
    "execution": {
     "iopub.execute_input": "2023-11-19T00:56:31.679691Z",
     "iopub.status.busy": "2023-11-19T00:56:31.679218Z",
     "iopub.status.idle": "2023-11-19T01:02:35.066325Z",
     "shell.execute_reply": "2023-11-19T01:02:35.064930Z"
    },
    "id": "6be8f28e",
    "outputId": "f91f684d-6e02-43ab-9517-d8ebf0eac54d",
    "papermill": {
     "duration": 363.428363,
     "end_time": "2023-11-19T01:02:35.086045",
     "exception": false,
     "start_time": "2023-11-19T00:56:31.657682",
     "status": "completed"
    },
    "tags": []
   },
   "outputs": [
    {
     "name": "stdout",
     "output_type": "stream",
     "text": [
      "Classification Report:\n",
      "               precision    recall  f1-score   support\n",
      "\n",
      "           0       0.60      0.75      0.67      3190\n",
      "           1       0.65      0.59      0.62      2629\n",
      "           2       0.48      0.35      0.41      2147\n",
      "\n",
      "    accuracy                           0.59      7966\n",
      "   macro avg       0.58      0.56      0.56      7966\n",
      "weighted avg       0.58      0.59      0.58      7966\n",
      "\n",
      "Accuracy: 0.5906351995982927\n"
     ]
    }
   ],
   "source": [
    "# Train\n",
    "model = SVC()\n",
    "model.fit(X_train, y_train)\n",
    "\n",
    "# Test\n",
    "y_pred = model.predict(X_test)\n",
    "\n",
    "# Evaluate\n",
    "classification_rep = classification_report(y_test, y_pred)\n",
    "print(\"Classification Report:\\n\", classification_rep)\n",
    "\n",
    "accuracy = accuracy_score(y_test, y_pred)\n",
    "print(\"Accuracy:\", accuracy)"
   ]
  },
  {
   "cell_type": "markdown",
   "id": "msMrflIiQKcv",
   "metadata": {
    "id": "msMrflIiQKcv"
   },
   "source": [
    "<br>\n",
    "\n",
    "# Experiment details <a id='details'></a>\n",
    "\n",
    "\n",
    "Experimenting with models using processed dataset VS unprocessed dataset: [link to unprocessed](https://colab.research.google.com/drive/1jh9gScBxIQdxO-8pPBg46C7_soCVFkHQ?usp=sharing) / [link to preprocessed](https://colab.research.google.com/drive/1QbfXdSHwerGPzA1gFMOPjBuNbXyNOMn-?usp=sharing)\n",
    "\n",
    "Among the tabulated results below, the SVM classifier with raw data achieved the highest precision\n",
    "rate of 0.58, along with the highest overall score, including recall (0.59) and F1 (0.58) score. The lowest\n",
    "precision of 0.506, was observed with the MLP classifier on processed data. The NB classifier on\n",
    "preprocessed data had the lowest recall, at 0.48.\n",
    "\n",
    "![processed vs unprocessed](https://github.com/PixieParksie/-Uni-Project-Data-Mining-/assets/106667881/32212ac0-5af3-4bb3-b04c-1c623cffcedd)\n",
    "\n",
    "\n",
    "These models achieved precision and recall rate approximately 50%, meaning that predictions for\n",
    "sentiments are somewhat accurate but not highly precise in terms of minimising false positives and false\n",
    "negatives.\n",
    "\n",
    "<br>\n",
    "\n",
    "To find variation between the algorithms, I assessed the sensitivity of each model to changes in data\n",
    "characteristics by comparing the differences in precision, recall, and F1-score between processed and\n",
    "unprocessed data. As shown in the table below, there is consistency between the SVM scores for unprocessed and\n",
    "processed data. From this, it can be assumed that SVM is relatively robust to changes in the input data\n",
    "because, due to its nature, it finds a hyperplane that best separates classes based on the original features.\n",
    "MLP on the other hand, is a little more sensitive to quality of input data due to its capacity to capture\n",
    "complex, non-linear relationships in data. MLP may struggle to learn these patterns and perform better\n",
    "with preprocessed, cleaner data.\n",
    "\n",
    "![2](https://github.com/PixieParksie/-Uni-Project-Data-Mining-/assets/106667881/344262f3-1694-47b8-b68a-ef4eedb13563)\n",
    "\n",
    "\n",
    "The consistent pattern showed only slight changes in classification results. Variation of preprocessing did not contribute much significant changes. Another consistent pattern I observed was that, after embedding text with GloVe, classifier accuracy rates dropped by up to 20% for both unprocessed and preprocessed data.\n",
    "\n",
    "<br>\n",
    "\n",
    "Expected / Unexpected outcomes and result aberrations in the experiments :\n",
    "- I was concerned that removing stopwords might lead to the loss of valuable information,\n",
    "particularly in rows with a high number of stopwords, containing over 50% of the sentence. As\n",
    "expected, retaining stopwords improved precision.\n",
    "- Stemming and lemmatisation had minimal impact on accuracy.\n",
    "Stemming had no effect, while lemmatisation produced sight changes by approximately 0.001.\n",
    "- I expected that using word embeddings like GloVe would enhance accuracy by capturing\n",
    "semantic and contextual information. Contrary to this, embedding usage led to a significant\n",
    "accuracy decrease of up to 20%, which starkly contrasts with our previous findings.\n",
    "- All classification results (accuracy, precision, recall, and F1-score) dropped when using\n",
    "preprocessed data, except for the accuracy of Naive Bayes, which showed a slight increase.\n",
    "\n",
    "<br>\n",
    "\n",
    "Although Naive Bayes achieved the highest accuracy score, accuracy alone isn't always the reliable\n",
    "metric. The best-performing algorithm was SVM, which demonstrated the highest precision and recall\n",
    "rates. It also exhibited robustness to noise and changes in input data, making it the ideal choice for the\n",
    "Emotion Detection dataset. Moreover, it does not require too significant computational resources, making\n",
    "it an approachable option. Based on the experiment results, the most effective preprocessing techniques\n",
    "were lemmatisation and the retention of stopwords, and the best feature selection method was TF-IDF, as\n",
    "it consistently provided the best outcomes in the iterative experiments.\n"
   ]
  },
  {
   "cell_type": "markdown",
   "id": "ilr4BBy2QQne",
   "metadata": {
    "id": "ilr4BBy2QQne"
   },
   "source": [
    "<br>\n",
    "\n",
    "# Conclusion <a id='conclusion'></a>\n",
    "\n",
    "In conclusion, these experiments and analysis have shed light on the influence of various factors, including\n",
    "algorithm types, parameters, pre-processing, and feature engineering techniques, on classification results.\n",
    "\n",
    "Based on the findings, I recommend using SVM combined with lemmatisation, retaining stopwords, and utilising a TF-IDF vectoriser.\n",
    "\n",
    "In theory, unprocessed data is expected to outperform preprocessed data due to the risk of overfitting in\n",
    "unprocessed data, where the model may capture noise, leading to poor generalisation. Preprocessing is\n",
    "designed to mitigate overfitting by cleaning and simplifying the data, allowing the model to focus on the\n",
    "most relevant information.\n",
    "\n",
    "However, our empirical results challenge this theoretical expectation. Surprisingly, I observed no\n",
    "significant differences in evaluation metrics between unprocessed and preprocessed data. This suggests\n",
    "that preprocessing may have limited impact in this context, or the data's quality may mitigate the effects\n",
    "of cleaning steps."
   ]
  }
 ],
 "metadata": {
  "colab": {
   "provenance": []
  },
  "kaggle": {
   "accelerator": "none",
   "dataSources": [
    {
     "datasetId": 1116138,
     "sourceId": 1874890,
     "sourceType": "datasetVersion"
    }
   ],
   "dockerImageVersionId": 30587,
   "isGpuEnabled": false,
   "isInternetEnabled": true,
   "language": "python",
   "sourceType": "notebook"
  },
  "kernelspec": {
   "display_name": "Python 3 (ipykernel)",
   "language": "python",
   "name": "python3"
  },
  "language_info": {
   "codemirror_mode": {
    "name": "ipython",
    "version": 3
   },
   "file_extension": ".py",
   "mimetype": "text/x-python",
   "name": "python",
   "nbconvert_exporter": "python",
   "pygments_lexer": "ipython3",
   "version": "3.9.18"
  },
  "papermill": {
   "default_parameters": {},
   "duration": 3146.576889,
   "end_time": "2023-11-19T01:02:36.532936",
   "environment_variables": {},
   "exception": null,
   "input_path": "__notebook__.ipynb",
   "output_path": "__notebook__.ipynb",
   "parameters": {},
   "start_time": "2023-11-19T00:10:09.956047",
   "version": "2.4.0"
  }
 },
 "nbformat": 4,
 "nbformat_minor": 5
}
